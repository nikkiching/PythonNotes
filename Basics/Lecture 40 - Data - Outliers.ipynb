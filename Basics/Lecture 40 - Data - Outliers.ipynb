{
 "cells": [
  {
   "cell_type": "code",
   "execution_count": 2,
   "metadata": {
    "collapsed": true
   },
   "outputs": [],
   "source": [
    "import numpy as np\n",
    "import pandas as pd\n",
    "from pandas import Series, DataFrame"
   ]
  },
  {
   "cell_type": "markdown",
   "metadata": {},
   "source": [
    "# Demo how to find outliers"
   ]
  },
  {
   "cell_type": "markdown",
   "metadata": {},
   "source": [
    "## Create data set"
   ]
  },
  {
   "cell_type": "code",
   "execution_count": 2,
   "metadata": {
    "collapsed": true
   },
   "outputs": [],
   "source": [
    "np.random.seed(12345)"
   ]
  },
  {
   "cell_type": "code",
   "execution_count": 3,
   "metadata": {},
   "outputs": [
    {
     "data": {
      "text/html": [
       "<div>\n",
       "<style>\n",
       "    .dataframe thead tr:only-child th {\n",
       "        text-align: right;\n",
       "    }\n",
       "\n",
       "    .dataframe thead th {\n",
       "        text-align: left;\n",
       "    }\n",
       "\n",
       "    .dataframe tbody tr th {\n",
       "        vertical-align: top;\n",
       "    }\n",
       "</style>\n",
       "<table border=\"1\" class=\"dataframe\">\n",
       "  <thead>\n",
       "    <tr style=\"text-align: right;\">\n",
       "      <th></th>\n",
       "      <th>0</th>\n",
       "      <th>1</th>\n",
       "      <th>2</th>\n",
       "      <th>3</th>\n",
       "    </tr>\n",
       "  </thead>\n",
       "  <tbody>\n",
       "    <tr>\n",
       "      <th>0</th>\n",
       "      <td>0.646906</td>\n",
       "      <td>-0.099818</td>\n",
       "      <td>-0.745535</td>\n",
       "      <td>2.627467</td>\n",
       "    </tr>\n",
       "    <tr>\n",
       "      <th>1</th>\n",
       "      <td>0.199545</td>\n",
       "      <td>-1.095892</td>\n",
       "      <td>-1.358437</td>\n",
       "      <td>-1.300994</td>\n",
       "    </tr>\n",
       "    <tr>\n",
       "      <th>2</th>\n",
       "      <td>0.111270</td>\n",
       "      <td>0.162986</td>\n",
       "      <td>-1.549046</td>\n",
       "      <td>-1.096824</td>\n",
       "    </tr>\n",
       "    <tr>\n",
       "      <th>3</th>\n",
       "      <td>0.991364</td>\n",
       "      <td>0.401552</td>\n",
       "      <td>-0.181010</td>\n",
       "      <td>-1.986585</td>\n",
       "    </tr>\n",
       "    <tr>\n",
       "      <th>4</th>\n",
       "      <td>-0.019402</td>\n",
       "      <td>-0.219749</td>\n",
       "      <td>-2.478818</td>\n",
       "      <td>-0.322940</td>\n",
       "    </tr>\n",
       "  </tbody>\n",
       "</table>\n",
       "</div>"
      ],
      "text/plain": [
       "          0         1         2         3\n",
       "0  0.646906 -0.099818 -0.745535  2.627467\n",
       "1  0.199545 -1.095892 -1.358437 -1.300994\n",
       "2  0.111270  0.162986 -1.549046 -1.096824\n",
       "3  0.991364  0.401552 -0.181010 -1.986585\n",
       "4 -0.019402 -0.219749 -2.478818 -0.322940"
      ]
     },
     "execution_count": 3,
     "metadata": {},
     "output_type": "execute_result"
    }
   ],
   "source": [
    "# 1000 rows by 4 columns\n",
    "dframe = DataFrame(np.random.randn(1000,4))\n",
    "dframe.head()"
   ]
  },
  {
   "cell_type": "code",
   "execution_count": 4,
   "metadata": {},
   "outputs": [
    {
     "data": {
      "text/html": [
       "<div>\n",
       "<style>\n",
       "    .dataframe thead tr:only-child th {\n",
       "        text-align: right;\n",
       "    }\n",
       "\n",
       "    .dataframe thead th {\n",
       "        text-align: left;\n",
       "    }\n",
       "\n",
       "    .dataframe tbody tr th {\n",
       "        vertical-align: top;\n",
       "    }\n",
       "</style>\n",
       "<table border=\"1\" class=\"dataframe\">\n",
       "  <thead>\n",
       "    <tr style=\"text-align: right;\">\n",
       "      <th></th>\n",
       "      <th>0</th>\n",
       "      <th>1</th>\n",
       "      <th>2</th>\n",
       "      <th>3</th>\n",
       "    </tr>\n",
       "  </thead>\n",
       "  <tbody>\n",
       "    <tr>\n",
       "      <th>count</th>\n",
       "      <td>1000.000000</td>\n",
       "      <td>1000.000000</td>\n",
       "      <td>1000.000000</td>\n",
       "      <td>1000.000000</td>\n",
       "    </tr>\n",
       "    <tr>\n",
       "      <th>mean</th>\n",
       "      <td>0.042307</td>\n",
       "      <td>-0.046766</td>\n",
       "      <td>0.004165</td>\n",
       "      <td>0.021351</td>\n",
       "    </tr>\n",
       "    <tr>\n",
       "      <th>std</th>\n",
       "      <td>0.985104</td>\n",
       "      <td>1.033235</td>\n",
       "      <td>1.023810</td>\n",
       "      <td>0.981421</td>\n",
       "    </tr>\n",
       "    <tr>\n",
       "      <th>min</th>\n",
       "      <td>-2.790457</td>\n",
       "      <td>-3.675507</td>\n",
       "      <td>-3.837220</td>\n",
       "      <td>-3.500099</td>\n",
       "    </tr>\n",
       "    <tr>\n",
       "      <th>25%</th>\n",
       "      <td>-0.657340</td>\n",
       "      <td>-0.717354</td>\n",
       "      <td>-0.714745</td>\n",
       "      <td>-0.610107</td>\n",
       "    </tr>\n",
       "    <tr>\n",
       "      <th>50%</th>\n",
       "      <td>0.013098</td>\n",
       "      <td>-0.059470</td>\n",
       "      <td>0.039100</td>\n",
       "      <td>0.104032</td>\n",
       "    </tr>\n",
       "    <tr>\n",
       "      <th>75%</th>\n",
       "      <td>0.729759</td>\n",
       "      <td>0.634650</td>\n",
       "      <td>0.690387</td>\n",
       "      <td>0.659440</td>\n",
       "    </tr>\n",
       "    <tr>\n",
       "      <th>max</th>\n",
       "      <td>2.944046</td>\n",
       "      <td>3.769987</td>\n",
       "      <td>3.038901</td>\n",
       "      <td>2.876633</td>\n",
       "    </tr>\n",
       "  </tbody>\n",
       "</table>\n",
       "</div>"
      ],
      "text/plain": [
       "                 0            1            2            3\n",
       "count  1000.000000  1000.000000  1000.000000  1000.000000\n",
       "mean      0.042307    -0.046766     0.004165     0.021351\n",
       "std       0.985104     1.033235     1.023810     0.981421\n",
       "min      -2.790457    -3.675507    -3.837220    -3.500099\n",
       "25%      -0.657340    -0.717354    -0.714745    -0.610107\n",
       "50%       0.013098    -0.059470     0.039100     0.104032\n",
       "75%       0.729759     0.634650     0.690387     0.659440\n",
       "max       2.944046     3.769987     3.038901     2.876633"
      ]
     },
     "execution_count": 4,
     "metadata": {},
     "output_type": "execute_result"
    }
   ],
   "source": [
    "dframe.describe()"
   ]
  },
  {
   "cell_type": "code",
   "execution_count": 5,
   "metadata": {},
   "outputs": [
    {
     "data": {
      "text/plain": [
       "0    0.646906\n",
       "1    0.199545\n",
       "2    0.111270\n",
       "3    0.991364\n",
       "4   -0.019402\n",
       "Name: 0, dtype: float64"
      ]
     },
     "execution_count": 5,
     "metadata": {},
     "output_type": "execute_result"
    }
   ],
   "source": [
    "col = dframe[0]\n",
    "col.head()"
   ]
  },
  {
   "cell_type": "code",
   "execution_count": 8,
   "metadata": {},
   "outputs": [
    {
     "data": {
      "text/plain": [
       "111    2.735887\n",
       "127    2.763389\n",
       "227   -2.790457\n",
       "418   -2.654119\n",
       "593   -2.701033\n",
       "761    2.944046\n",
       "906   -2.628270\n",
       "Name: 0, dtype: float64"
      ]
     },
     "execution_count": 8,
     "metadata": {},
     "output_type": "execute_result"
    }
   ],
   "source": [
    "# show all rows in the first column that its value is greater than 2.5\n",
    "col[np.abs(col)>2.5]"
   ]
  },
  {
   "cell_type": "code",
   "execution_count": 10,
   "metadata": {},
   "outputs": [
    {
     "data": {
      "text/html": [
       "<div>\n",
       "<style>\n",
       "    .dataframe thead tr:only-child th {\n",
       "        text-align: right;\n",
       "    }\n",
       "\n",
       "    .dataframe thead th {\n",
       "        text-align: left;\n",
       "    }\n",
       "\n",
       "    .dataframe tbody tr th {\n",
       "        vertical-align: top;\n",
       "    }\n",
       "</style>\n",
       "<table border=\"1\" class=\"dataframe\">\n",
       "  <thead>\n",
       "    <tr style=\"text-align: right;\">\n",
       "      <th></th>\n",
       "      <th>0</th>\n",
       "      <th>1</th>\n",
       "      <th>2</th>\n",
       "      <th>3</th>\n",
       "    </tr>\n",
       "  </thead>\n",
       "  <tbody>\n",
       "    <tr>\n",
       "      <th>51</th>\n",
       "      <td>-0.712040</td>\n",
       "      <td>3.136649</td>\n",
       "      <td>-1.086084</td>\n",
       "      <td>0.343163</td>\n",
       "    </tr>\n",
       "    <tr>\n",
       "      <th>233</th>\n",
       "      <td>0.499891</td>\n",
       "      <td>3.769987</td>\n",
       "      <td>1.443792</td>\n",
       "      <td>0.147634</td>\n",
       "    </tr>\n",
       "    <tr>\n",
       "      <th>278</th>\n",
       "      <td>-0.174217</td>\n",
       "      <td>0.128474</td>\n",
       "      <td>3.038901</td>\n",
       "      <td>0.873414</td>\n",
       "    </tr>\n",
       "    <tr>\n",
       "      <th>444</th>\n",
       "      <td>0.289697</td>\n",
       "      <td>0.645383</td>\n",
       "      <td>0.419148</td>\n",
       "      <td>-3.319897</td>\n",
       "    </tr>\n",
       "    <tr>\n",
       "      <th>515</th>\n",
       "      <td>-0.252174</td>\n",
       "      <td>-0.404480</td>\n",
       "      <td>-3.192893</td>\n",
       "      <td>0.275585</td>\n",
       "    </tr>\n",
       "    <tr>\n",
       "      <th>533</th>\n",
       "      <td>-0.258248</td>\n",
       "      <td>0.641230</td>\n",
       "      <td>-3.736891</td>\n",
       "      <td>-1.284260</td>\n",
       "    </tr>\n",
       "    <tr>\n",
       "      <th>641</th>\n",
       "      <td>0.494711</td>\n",
       "      <td>3.028577</td>\n",
       "      <td>0.631553</td>\n",
       "      <td>-1.017662</td>\n",
       "    </tr>\n",
       "    <tr>\n",
       "      <th>686</th>\n",
       "      <td>1.596507</td>\n",
       "      <td>3.697942</td>\n",
       "      <td>1.189121</td>\n",
       "      <td>1.426555</td>\n",
       "    </tr>\n",
       "    <tr>\n",
       "      <th>785</th>\n",
       "      <td>-0.223658</td>\n",
       "      <td>1.084236</td>\n",
       "      <td>-0.030379</td>\n",
       "      <td>-3.500099</td>\n",
       "    </tr>\n",
       "    <tr>\n",
       "      <th>801</th>\n",
       "      <td>-0.668515</td>\n",
       "      <td>-0.522832</td>\n",
       "      <td>-3.837220</td>\n",
       "      <td>-1.413805</td>\n",
       "    </tr>\n",
       "    <tr>\n",
       "      <th>974</th>\n",
       "      <td>-0.212113</td>\n",
       "      <td>-3.675507</td>\n",
       "      <td>0.697177</td>\n",
       "      <td>0.659185</td>\n",
       "    </tr>\n",
       "  </tbody>\n",
       "</table>\n",
       "</div>"
      ],
      "text/plain": [
       "            0         1         2         3\n",
       "51  -0.712040  3.136649 -1.086084  0.343163\n",
       "233  0.499891  3.769987  1.443792  0.147634\n",
       "278 -0.174217  0.128474  3.038901  0.873414\n",
       "444  0.289697  0.645383  0.419148 -3.319897\n",
       "515 -0.252174 -0.404480 -3.192893  0.275585\n",
       "533 -0.258248  0.641230 -3.736891 -1.284260\n",
       "641  0.494711  3.028577  0.631553 -1.017662\n",
       "686  1.596507  3.697942  1.189121  1.426555\n",
       "785 -0.223658  1.084236 -0.030379 -3.500099\n",
       "801 -0.668515 -0.522832 -3.837220 -1.413805\n",
       "974 -0.212113 -3.675507  0.697177  0.659185"
      ]
     },
     "execution_count": 10,
     "metadata": {},
     "output_type": "execute_result"
    }
   ],
   "source": [
    "# Return the rows with any column that is > 3\n",
    "dframe[(np.abs(dframe)>3).any(1)]"
   ]
  },
  {
   "cell_type": "code",
   "execution_count": 11,
   "metadata": {
    "collapsed": true
   },
   "outputs": [],
   "source": [
    "# Normalize the value to be +3 or -3\n",
    "dframe[np.abs(dframe)>3] = np.sign(dframe)*3"
   ]
  },
  {
   "cell_type": "code",
   "execution_count": 12,
   "metadata": {},
   "outputs": [
    {
     "data": {
      "text/html": [
       "<div>\n",
       "<style>\n",
       "    .dataframe thead tr:only-child th {\n",
       "        text-align: right;\n",
       "    }\n",
       "\n",
       "    .dataframe thead th {\n",
       "        text-align: left;\n",
       "    }\n",
       "\n",
       "    .dataframe tbody tr th {\n",
       "        vertical-align: top;\n",
       "    }\n",
       "</style>\n",
       "<table border=\"1\" class=\"dataframe\">\n",
       "  <thead>\n",
       "    <tr style=\"text-align: right;\">\n",
       "      <th></th>\n",
       "      <th>0</th>\n",
       "      <th>1</th>\n",
       "      <th>2</th>\n",
       "      <th>3</th>\n",
       "    </tr>\n",
       "  </thead>\n",
       "  <tbody>\n",
       "    <tr>\n",
       "      <th>count</th>\n",
       "      <td>1000.000000</td>\n",
       "      <td>1000.000000</td>\n",
       "      <td>1000.000000</td>\n",
       "      <td>1000.000000</td>\n",
       "    </tr>\n",
       "    <tr>\n",
       "      <th>mean</th>\n",
       "      <td>0.042307</td>\n",
       "      <td>-0.047724</td>\n",
       "      <td>0.005893</td>\n",
       "      <td>0.022171</td>\n",
       "    </tr>\n",
       "    <tr>\n",
       "      <th>std</th>\n",
       "      <td>0.985104</td>\n",
       "      <td>1.025700</td>\n",
       "      <td>1.017861</td>\n",
       "      <td>0.978711</td>\n",
       "    </tr>\n",
       "    <tr>\n",
       "      <th>min</th>\n",
       "      <td>-2.790457</td>\n",
       "      <td>-3.000000</td>\n",
       "      <td>-3.000000</td>\n",
       "      <td>-3.000000</td>\n",
       "    </tr>\n",
       "    <tr>\n",
       "      <th>25%</th>\n",
       "      <td>-0.657340</td>\n",
       "      <td>-0.717354</td>\n",
       "      <td>-0.714745</td>\n",
       "      <td>-0.610107</td>\n",
       "    </tr>\n",
       "    <tr>\n",
       "      <th>50%</th>\n",
       "      <td>0.013098</td>\n",
       "      <td>-0.059470</td>\n",
       "      <td>0.039100</td>\n",
       "      <td>0.104032</td>\n",
       "    </tr>\n",
       "    <tr>\n",
       "      <th>75%</th>\n",
       "      <td>0.729759</td>\n",
       "      <td>0.634650</td>\n",
       "      <td>0.690387</td>\n",
       "      <td>0.659440</td>\n",
       "    </tr>\n",
       "    <tr>\n",
       "      <th>max</th>\n",
       "      <td>2.944046</td>\n",
       "      <td>3.000000</td>\n",
       "      <td>3.000000</td>\n",
       "      <td>2.876633</td>\n",
       "    </tr>\n",
       "  </tbody>\n",
       "</table>\n",
       "</div>"
      ],
      "text/plain": [
       "                 0            1            2            3\n",
       "count  1000.000000  1000.000000  1000.000000  1000.000000\n",
       "mean      0.042307    -0.047724     0.005893     0.022171\n",
       "std       0.985104     1.025700     1.017861     0.978711\n",
       "min      -2.790457    -3.000000    -3.000000    -3.000000\n",
       "25%      -0.657340    -0.717354    -0.714745    -0.610107\n",
       "50%       0.013098    -0.059470     0.039100     0.104032\n",
       "75%       0.729759     0.634650     0.690387     0.659440\n",
       "max       2.944046     3.000000     3.000000     2.876633"
      ]
     },
     "execution_count": 12,
     "metadata": {},
     "output_type": "execute_result"
    }
   ],
   "source": [
    "dframe.describe()"
   ]
  }
 ],
 "metadata": {
  "kernelspec": {
   "display_name": "Python 3",
   "language": "python",
   "name": "python3"
  },
  "language_info": {
   "codemirror_mode": {
    "name": "ipython",
    "version": 3
   },
   "file_extension": ".py",
   "mimetype": "text/x-python",
   "name": "python",
   "nbconvert_exporter": "python",
   "pygments_lexer": "ipython3",
   "version": "3.6.1"
  }
 },
 "nbformat": 4,
 "nbformat_minor": 2
}
