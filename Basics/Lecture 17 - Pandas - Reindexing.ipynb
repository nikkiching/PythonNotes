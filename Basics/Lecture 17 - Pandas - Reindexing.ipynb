{
 "cells": [
  {
   "cell_type": "code",
   "execution_count": 1,
   "metadata": {
    "collapsed": true
   },
   "outputs": [],
   "source": [
    "import numpy as np\n",
    "import pandas as pd\n",
    "from pandas import Series, DataFrame\n",
    "\n",
    "from numpy.random import randn"
   ]
  },
  {
   "cell_type": "code",
   "execution_count": 2,
   "metadata": {},
   "outputs": [
    {
     "data": {
      "text/plain": [
       "A    1\n",
       "B    2\n",
       "C    3\n",
       "D    4\n",
       "dtype: int64"
      ]
     },
     "execution_count": 2,
     "metadata": {},
     "output_type": "execute_result"
    }
   ],
   "source": [
    "# init\n",
    "ser1 = Series([1,2,3,4], index = ['A', 'B', 'C', 'D'])\n",
    "ser1"
   ]
  },
  {
   "cell_type": "code",
   "execution_count": 4,
   "metadata": {},
   "outputs": [
    {
     "data": {
      "text/plain": [
       "A    1.0\n",
       "B    2.0\n",
       "C    3.0\n",
       "D    4.0\n",
       "E    NaN\n",
       "F    NaN\n",
       "dtype: float64"
      ]
     },
     "execution_count": 4,
     "metadata": {},
     "output_type": "execute_result"
    }
   ],
   "source": [
    "''' Reindexing '''\n",
    "ser2 = ser1.reindex(['A','B','C','D','E','F'])\n",
    "ser2"
   ]
  },
  {
   "cell_type": "code",
   "execution_count": 5,
   "metadata": {},
   "outputs": [
    {
     "data": {
      "text/plain": [
       "A    1.0\n",
       "B    2.0\n",
       "C    3.0\n",
       "D    4.0\n",
       "E    NaN\n",
       "F    NaN\n",
       "G    0.0\n",
       "H    0.0\n",
       "dtype: float64"
      ]
     },
     "execution_count": 5,
     "metadata": {},
     "output_type": "execute_result"
    }
   ],
   "source": [
    "''' fill_value: Fill in default value when reindexing\n",
    "** The value will not change if the index is previously existed\n",
    "'''\n",
    "ser2.reindex(['A','B','C','D','E','F','G', 'H'], fill_value = 0)"
   ]
  },
  {
   "cell_type": "code",
   "execution_count": 6,
   "metadata": {},
   "outputs": [
    {
     "data": {
      "text/plain": [
       "0        USA\n",
       "5     Mexico\n",
       "10    Canada\n",
       "dtype: object"
      ]
     },
     "execution_count": 6,
     "metadata": {},
     "output_type": "execute_result"
    }
   ],
   "source": [
    "ser3 = Series(['USA', 'Mexico', 'Canada'], index=[0,5,10])\n",
    "ser3"
   ]
  },
  {
   "cell_type": "code",
   "execution_count": 7,
   "metadata": {},
   "outputs": [
    {
     "data": {
      "text/plain": [
       "0        USA\n",
       "1        USA\n",
       "2        USA\n",
       "3        USA\n",
       "4        USA\n",
       "5     Mexico\n",
       "6     Mexico\n",
       "7     Mexico\n",
       "8     Mexico\n",
       "9     Mexico\n",
       "10    Canada\n",
       "11    Canada\n",
       "12    Canada\n",
       "13    Canada\n",
       "14    Canada\n",
       "dtype: object"
      ]
     },
     "execution_count": 7,
     "metadata": {},
     "output_type": "execute_result"
    }
   ],
   "source": [
    "''' Use range() to set index '''\n",
    "# ffill -> forward fill: fill the missing value with the valus of its previous index\n",
    "ser3.reindex(range(15), method='ffill')"
   ]
  },
  {
   "cell_type": "code",
   "execution_count": 9,
   "metadata": {},
   "outputs": [
    {
     "data": {
      "text/html": [
       "<div>\n",
       "<style>\n",
       "    .dataframe thead tr:only-child th {\n",
       "        text-align: right;\n",
       "    }\n",
       "\n",
       "    .dataframe thead th {\n",
       "        text-align: left;\n",
       "    }\n",
       "\n",
       "    .dataframe tbody tr th {\n",
       "        vertical-align: top;\n",
       "    }\n",
       "</style>\n",
       "<table border=\"1\" class=\"dataframe\">\n",
       "  <thead>\n",
       "    <tr style=\"text-align: right;\">\n",
       "      <th></th>\n",
       "      <th>col1</th>\n",
       "      <th>col2</th>\n",
       "      <th>col3</th>\n",
       "      <th>col4</th>\n",
       "      <th>col5</th>\n",
       "    </tr>\n",
       "  </thead>\n",
       "  <tbody>\n",
       "    <tr>\n",
       "      <th>A</th>\n",
       "      <td>1.073821</td>\n",
       "      <td>-0.028703</td>\n",
       "      <td>-0.996531</td>\n",
       "      <td>-0.034518</td>\n",
       "      <td>-0.579667</td>\n",
       "    </tr>\n",
       "    <tr>\n",
       "      <th>B</th>\n",
       "      <td>-0.864156</td>\n",
       "      <td>-0.992529</td>\n",
       "      <td>0.248712</td>\n",
       "      <td>1.131031</td>\n",
       "      <td>0.560323</td>\n",
       "    </tr>\n",
       "    <tr>\n",
       "      <th>D</th>\n",
       "      <td>1.842582</td>\n",
       "      <td>0.458928</td>\n",
       "      <td>1.490160</td>\n",
       "      <td>0.914676</td>\n",
       "      <td>-1.073665</td>\n",
       "    </tr>\n",
       "    <tr>\n",
       "      <th>E</th>\n",
       "      <td>0.327743</td>\n",
       "      <td>0.653081</td>\n",
       "      <td>-0.464785</td>\n",
       "      <td>-0.178951</td>\n",
       "      <td>0.430896</td>\n",
       "    </tr>\n",
       "    <tr>\n",
       "      <th>F</th>\n",
       "      <td>1.907952</td>\n",
       "      <td>0.437114</td>\n",
       "      <td>-0.034518</td>\n",
       "      <td>1.201660</td>\n",
       "      <td>0.743071</td>\n",
       "    </tr>\n",
       "  </tbody>\n",
       "</table>\n",
       "</div>"
      ],
      "text/plain": [
       "       col1      col2      col3      col4      col5\n",
       "A  1.073821 -0.028703 -0.996531 -0.034518 -0.579667\n",
       "B -0.864156 -0.992529  0.248712  1.131031  0.560323\n",
       "D  1.842582  0.458928  1.490160  0.914676 -1.073665\n",
       "E  0.327743  0.653081 -0.464785 -0.178951  0.430896\n",
       "F  1.907952  0.437114 -0.034518  1.201660  0.743071"
      ]
     },
     "execution_count": 9,
     "metadata": {},
     "output_type": "execute_result"
    }
   ],
   "source": [
    "# a 5-by-5 matrix of random number\n",
    "dataFrame = DataFrame(randn(25).reshape((5,5)), index=['A', 'B', 'D', 'E', 'F'], columns=['col1','col2','col3', 'col4', 'col5'])\n",
    "dataFrame"
   ]
  },
  {
   "cell_type": "code",
   "execution_count": 10,
   "metadata": {},
   "outputs": [
    {
     "data": {
      "text/html": [
       "<div>\n",
       "<style>\n",
       "    .dataframe thead tr:only-child th {\n",
       "        text-align: right;\n",
       "    }\n",
       "\n",
       "    .dataframe thead th {\n",
       "        text-align: left;\n",
       "    }\n",
       "\n",
       "    .dataframe tbody tr th {\n",
       "        vertical-align: top;\n",
       "    }\n",
       "</style>\n",
       "<table border=\"1\" class=\"dataframe\">\n",
       "  <thead>\n",
       "    <tr style=\"text-align: right;\">\n",
       "      <th></th>\n",
       "      <th>col1</th>\n",
       "      <th>col2</th>\n",
       "      <th>col3</th>\n",
       "      <th>col4</th>\n",
       "      <th>col5</th>\n",
       "    </tr>\n",
       "  </thead>\n",
       "  <tbody>\n",
       "    <tr>\n",
       "      <th>A</th>\n",
       "      <td>1.073821</td>\n",
       "      <td>-0.028703</td>\n",
       "      <td>-0.996531</td>\n",
       "      <td>-0.034518</td>\n",
       "      <td>-0.579667</td>\n",
       "    </tr>\n",
       "    <tr>\n",
       "      <th>B</th>\n",
       "      <td>-0.864156</td>\n",
       "      <td>-0.992529</td>\n",
       "      <td>0.248712</td>\n",
       "      <td>1.131031</td>\n",
       "      <td>0.560323</td>\n",
       "    </tr>\n",
       "    <tr>\n",
       "      <th>C</th>\n",
       "      <td>NaN</td>\n",
       "      <td>NaN</td>\n",
       "      <td>NaN</td>\n",
       "      <td>NaN</td>\n",
       "      <td>NaN</td>\n",
       "    </tr>\n",
       "    <tr>\n",
       "      <th>D</th>\n",
       "      <td>1.842582</td>\n",
       "      <td>0.458928</td>\n",
       "      <td>1.490160</td>\n",
       "      <td>0.914676</td>\n",
       "      <td>-1.073665</td>\n",
       "    </tr>\n",
       "    <tr>\n",
       "      <th>E</th>\n",
       "      <td>0.327743</td>\n",
       "      <td>0.653081</td>\n",
       "      <td>-0.464785</td>\n",
       "      <td>-0.178951</td>\n",
       "      <td>0.430896</td>\n",
       "    </tr>\n",
       "    <tr>\n",
       "      <th>F</th>\n",
       "      <td>1.907952</td>\n",
       "      <td>0.437114</td>\n",
       "      <td>-0.034518</td>\n",
       "      <td>1.201660</td>\n",
       "      <td>0.743071</td>\n",
       "    </tr>\n",
       "  </tbody>\n",
       "</table>\n",
       "</div>"
      ],
      "text/plain": [
       "       col1      col2      col3      col4      col5\n",
       "A  1.073821 -0.028703 -0.996531 -0.034518 -0.579667\n",
       "B -0.864156 -0.992529  0.248712  1.131031  0.560323\n",
       "C       NaN       NaN       NaN       NaN       NaN\n",
       "D  1.842582  0.458928  1.490160  0.914676 -1.073665\n",
       "E  0.327743  0.653081 -0.464785 -0.178951  0.430896\n",
       "F  1.907952  0.437114 -0.034518  1.201660  0.743071"
      ]
     },
     "execution_count": 10,
     "metadata": {},
     "output_type": "execute_result"
    }
   ],
   "source": [
    "# Reindex the rows\n",
    "dataF2 = dataFrame.reindex(['A', 'B', 'C', 'D', 'E', 'F'])\n",
    "dataF2"
   ]
  },
  {
   "cell_type": "code",
   "execution_count": 11,
   "metadata": {},
   "outputs": [
    {
     "data": {
      "text/html": [
       "<div>\n",
       "<style>\n",
       "    .dataframe thead tr:only-child th {\n",
       "        text-align: right;\n",
       "    }\n",
       "\n",
       "    .dataframe thead th {\n",
       "        text-align: left;\n",
       "    }\n",
       "\n",
       "    .dataframe tbody tr th {\n",
       "        vertical-align: top;\n",
       "    }\n",
       "</style>\n",
       "<table border=\"1\" class=\"dataframe\">\n",
       "  <thead>\n",
       "    <tr style=\"text-align: right;\">\n",
       "      <th></th>\n",
       "      <th>col1</th>\n",
       "      <th>col2</th>\n",
       "      <th>col3</th>\n",
       "      <th>col4</th>\n",
       "      <th>col5</th>\n",
       "      <th>col6</th>\n",
       "    </tr>\n",
       "  </thead>\n",
       "  <tbody>\n",
       "    <tr>\n",
       "      <th>A</th>\n",
       "      <td>1.073821</td>\n",
       "      <td>-0.028703</td>\n",
       "      <td>-0.996531</td>\n",
       "      <td>-0.034518</td>\n",
       "      <td>-0.579667</td>\n",
       "      <td>NaN</td>\n",
       "    </tr>\n",
       "    <tr>\n",
       "      <th>B</th>\n",
       "      <td>-0.864156</td>\n",
       "      <td>-0.992529</td>\n",
       "      <td>0.248712</td>\n",
       "      <td>1.131031</td>\n",
       "      <td>0.560323</td>\n",
       "      <td>NaN</td>\n",
       "    </tr>\n",
       "    <tr>\n",
       "      <th>C</th>\n",
       "      <td>NaN</td>\n",
       "      <td>NaN</td>\n",
       "      <td>NaN</td>\n",
       "      <td>NaN</td>\n",
       "      <td>NaN</td>\n",
       "      <td>NaN</td>\n",
       "    </tr>\n",
       "    <tr>\n",
       "      <th>D</th>\n",
       "      <td>1.842582</td>\n",
       "      <td>0.458928</td>\n",
       "      <td>1.490160</td>\n",
       "      <td>0.914676</td>\n",
       "      <td>-1.073665</td>\n",
       "      <td>NaN</td>\n",
       "    </tr>\n",
       "    <tr>\n",
       "      <th>E</th>\n",
       "      <td>0.327743</td>\n",
       "      <td>0.653081</td>\n",
       "      <td>-0.464785</td>\n",
       "      <td>-0.178951</td>\n",
       "      <td>0.430896</td>\n",
       "      <td>NaN</td>\n",
       "    </tr>\n",
       "    <tr>\n",
       "      <th>F</th>\n",
       "      <td>1.907952</td>\n",
       "      <td>0.437114</td>\n",
       "      <td>-0.034518</td>\n",
       "      <td>1.201660</td>\n",
       "      <td>0.743071</td>\n",
       "      <td>NaN</td>\n",
       "    </tr>\n",
       "  </tbody>\n",
       "</table>\n",
       "</div>"
      ],
      "text/plain": [
       "       col1      col2      col3      col4      col5  col6\n",
       "A  1.073821 -0.028703 -0.996531 -0.034518 -0.579667   NaN\n",
       "B -0.864156 -0.992529  0.248712  1.131031  0.560323   NaN\n",
       "C       NaN       NaN       NaN       NaN       NaN   NaN\n",
       "D  1.842582  0.458928  1.490160  0.914676 -1.073665   NaN\n",
       "E  0.327743  0.653081 -0.464785 -0.178951  0.430896   NaN\n",
       "F  1.907952  0.437114 -0.034518  1.201660  0.743071   NaN"
      ]
     },
     "execution_count": 11,
     "metadata": {},
     "output_type": "execute_result"
    }
   ],
   "source": [
    "# Reindex the columns\n",
    "new_columns = ['col1','col2','col3', 'col4', 'col5', 'col6']\n",
    "dataF2.reindex(columns=new_columns)"
   ]
  },
  {
   "cell_type": "code",
   "execution_count": 14,
   "metadata": {},
   "outputs": [
    {
     "data": {
      "text/html": [
       "<div>\n",
       "<style>\n",
       "    .dataframe thead tr:only-child th {\n",
       "        text-align: right;\n",
       "    }\n",
       "\n",
       "    .dataframe thead th {\n",
       "        text-align: left;\n",
       "    }\n",
       "\n",
       "    .dataframe tbody tr th {\n",
       "        vertical-align: top;\n",
       "    }\n",
       "</style>\n",
       "<table border=\"1\" class=\"dataframe\">\n",
       "  <thead>\n",
       "    <tr style=\"text-align: right;\">\n",
       "      <th></th>\n",
       "      <th>col1</th>\n",
       "      <th>col2</th>\n",
       "      <th>col3</th>\n",
       "      <th>col4</th>\n",
       "      <th>col5</th>\n",
       "      <th>col6</th>\n",
       "    </tr>\n",
       "  </thead>\n",
       "  <tbody>\n",
       "    <tr>\n",
       "      <th>A</th>\n",
       "      <td>1.073821</td>\n",
       "      <td>-0.028703</td>\n",
       "      <td>-0.996531</td>\n",
       "      <td>-0.034518</td>\n",
       "      <td>-0.579667</td>\n",
       "      <td>NaN</td>\n",
       "    </tr>\n",
       "    <tr>\n",
       "      <th>B</th>\n",
       "      <td>-0.864156</td>\n",
       "      <td>-0.992529</td>\n",
       "      <td>0.248712</td>\n",
       "      <td>1.131031</td>\n",
       "      <td>0.560323</td>\n",
       "      <td>NaN</td>\n",
       "    </tr>\n",
       "    <tr>\n",
       "      <th>C</th>\n",
       "      <td>NaN</td>\n",
       "      <td>NaN</td>\n",
       "      <td>NaN</td>\n",
       "      <td>NaN</td>\n",
       "      <td>NaN</td>\n",
       "      <td>NaN</td>\n",
       "    </tr>\n",
       "    <tr>\n",
       "      <th>D</th>\n",
       "      <td>1.842582</td>\n",
       "      <td>0.458928</td>\n",
       "      <td>1.490160</td>\n",
       "      <td>0.914676</td>\n",
       "      <td>-1.073665</td>\n",
       "      <td>NaN</td>\n",
       "    </tr>\n",
       "    <tr>\n",
       "      <th>E</th>\n",
       "      <td>0.327743</td>\n",
       "      <td>0.653081</td>\n",
       "      <td>-0.464785</td>\n",
       "      <td>-0.178951</td>\n",
       "      <td>0.430896</td>\n",
       "      <td>NaN</td>\n",
       "    </tr>\n",
       "    <tr>\n",
       "      <th>F</th>\n",
       "      <td>1.907952</td>\n",
       "      <td>0.437114</td>\n",
       "      <td>-0.034518</td>\n",
       "      <td>1.201660</td>\n",
       "      <td>0.743071</td>\n",
       "      <td>NaN</td>\n",
       "    </tr>\n",
       "  </tbody>\n",
       "</table>\n",
       "</div>"
      ],
      "text/plain": [
       "       col1      col2      col3      col4      col5  col6\n",
       "A  1.073821 -0.028703 -0.996531 -0.034518 -0.579667   NaN\n",
       "B -0.864156 -0.992529  0.248712  1.131031  0.560323   NaN\n",
       "C       NaN       NaN       NaN       NaN       NaN   NaN\n",
       "D  1.842582  0.458928  1.490160  0.914676 -1.073665   NaN\n",
       "E  0.327743  0.653081 -0.464785 -0.178951  0.430896   NaN\n",
       "F  1.907952  0.437114 -0.034518  1.201660  0.743071   NaN"
      ]
     },
     "execution_count": 14,
     "metadata": {},
     "output_type": "execute_result"
    }
   ],
   "source": [
    "''' .loc() -> label-based indexing '''\n",
    "dataF2.loc[['A', 'B', 'C', 'D', 'E', 'F'], new_columns]"
   ]
  }
 ],
 "metadata": {
  "kernelspec": {
   "display_name": "Python 3",
   "language": "python",
   "name": "python3"
  },
  "language_info": {
   "codemirror_mode": {
    "name": "ipython",
    "version": 3
   },
   "file_extension": ".py",
   "mimetype": "text/x-python",
   "name": "python",
   "nbconvert_exporter": "python",
   "pygments_lexer": "ipython3",
   "version": "3.6.1"
  }
 },
 "nbformat": 4,
 "nbformat_minor": 2
}
